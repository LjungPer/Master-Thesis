{
 "cells": [
  {
   "cell_type": "markdown",
   "metadata": {},
   "source": [
    "# Plot solution corrections\n",
    "\n",
    "The script evaluates the multiscale basis for the space $V^{\\text{ms}'}_H$, and computes the system to find $w^n_x$ that solves\n",
    "\n",
    "$$a(w^n_x, z) + \\tau b(w^n_x, z) = a(w^{n-1}_x, z), \\quad \\forall z\\in V^f,$$\n",
    "\n",
    "for all $x\\in \\mathcal{N}_H$ and $n=1,2,...,N$ with $w^0_x = \\lambda_x - \\phi_x$. The finescale solution corrections $w^n_x$ is then plotted for a choice of $n$ and $x\\in \\mathcal{N}_H$. In this example the parameters are set as $1/h = 256$ and $1/H = 16$, and the coefficients are set as\n",
    "\n",
    "$$A_\\varepsilon(x) = (2 - \\sin(2\\pi x/\\varepsilon_A)), \\qquad B_\\varepsilon(x) = (2 - \\sin(2\\pi x/\\varepsilon_B))$$\n",
    "\n",
    "with $\\varepsilon_A = \\varepsilon_B = 2^{-5}$.\n"
   ]
  },
  {
   "cell_type": "code",
   "execution_count": 1,
   "metadata": {},
   "outputs": [],
   "source": [
    "import numpy as np\n",
    "import scipy.sparse as sparse\n",
    "import matplotlib.pyplot as plt\n",
    "from gridlod import util, fem, coef, interp, linalg\n",
    "from gridlod.world import World\n",
    "import lod_wave\n",
    "\n",
    "'''\n",
    "Settings\n",
    "'''\n",
    "\n",
    "# fine mesh parameters\n",
    "fine = 256\n",
    "NFine = np.array([fine])\n",
    "NpFine = np.prod(NFine + 1)\n",
    "boundaryConditions = np.array([[0, 0]])\n",
    "world = World(np.array([256]), NFine/np.array([256]), boundaryConditions)\n",
    "NWorldFine = world.NWorldCoarse * world.NCoarseElement\n",
    "\n",
    "# fine grid elements and nodes\n",
    "xt = util.tCoordinates(NFine).flatten()\n",
    "xp = util.pCoordinates(NFine).flatten()\n",
    "\n",
    "# time step parameters\n",
    "tau = 0.01\n",
    "numTimeSteps = 300\n",
    "\n",
    "# ms coefficients\n",
    "epsA = 2 ** (-5)\n",
    "epsB = 2 ** (-5)\n",
    "aFine = (2 - np.sin(2 * np.pi * xt / epsA)) ** (-1)\n",
    "bFine = (2 - np.cos(2 * np.pi * xt / epsB)) ** (-1)\n",
    "\n",
    "k_0 = np.inf\n",
    "k_1 = np.inf\n",
    "N = 16\n",
    "\n",
    "# coarse mesh parameters\n",
    "NWorldCoarse = np.array([N])\n",
    "NCoarseElement = NFine / NWorldCoarse\n",
    "world = World(NWorldCoarse, NCoarseElement, boundaryConditions)\n",
    "\n",
    "# grid nodes\n",
    "xpCoarse = util.pCoordinates(NWorldCoarse).flatten()\n",
    "NpCoarse = np.prod(NWorldCoarse + 1)\n",
    "\n",
    "'''\n",
    "Compute multiscale basis\n",
    "'''\n",
    "\n",
    "# patch generator and coefficients\n",
    "IPatchGenerator = lambda i, N: interp.L2ProjectionPatchMatrix(i, N, NWorldCoarse,\n",
    "                                                              NCoarseElement, boundaryConditions)\n",
    "b_coef = coef.coefficientFine(NWorldCoarse, NCoarseElement, bFine)\n",
    "a_coef = coef.coefficientFine(NWorldCoarse, NCoarseElement, aFine / tau)\n",
    "\n",
    "# compute basis correctors\n",
    "lod = lod_wave.LodWave(b_coef, world, k_0, IPatchGenerator, a_coef)\n",
    "lod.compute_basis_correctors()\n",
    "\n",
    "# compute ms basis\n",
    "basis = fem.assembleProlongationMatrix(NWorldCoarse, NCoarseElement)\n",
    "basis_correctors = lod.assembleBasisCorrectors()\n",
    "ms_basis = basis - basis_correctors\n",
    "\n",
    "'''\n",
    "Compute finescale system\n",
    "\n",
    "fs_solutions[i] = {w^i_x}_x\n",
    "'''\n",
    "\n",
    "prev_fs_sol = ms_basis\n",
    "fs_solutions = []\n",
    "for i in xrange(numTimeSteps):\n",
    "\n",
    "    # solve system\n",
    "    lod = lod_wave.LodWave(b_coef, world, k_1, IPatchGenerator, a_coef, prev_fs_sol, ms_basis)\n",
    "    lod.solve_fs_system(localized=False)\n",
    "\n",
    "    # store sparse solution\n",
    "    prev_fs_sol = sparse.csc_matrix(np.array(np.column_stack(lod.fs_list)))\n",
    "    fs_solutions.append(prev_fs_sol)\n"
   ]
  },
  {
   "cell_type": "code",
   "execution_count": 2,
   "metadata": {},
   "outputs": [
    {
     "data": {
      "image/png": "[encoded data removed]",
      "text/plain": [
       "<matplotlib.figure.Figure at 0x7f7299371e10>"
      ]
     },
     "metadata": {},
     "output_type": "display_data"
    }
   ],
   "source": [
    "n = 0\n",
    "x = N/2\n",
    "plt.figure('Corr')\n",
    "plt.rc('text', usetex=True)\n",
    "plt.rc('font', family='serif')\n",
    "plt.subplots_adjust(left=0.14, bottom=0.07, right=0.99, top=0.92, wspace=0.1, hspace=0.2)\n",
    "plt.tick_params(labelsize=14)\n",
    "plt.plot(xp, fs_solutions[n][:,x].todense(), 'k', label='$w^{%d}_{%d}$' %(n, x), linewidth=1)\n",
    "plt.plot(xpCoarse, 0 * xpCoarse, 'or', label='$x\\in \\mathcal{N}_H$', markersize=4)\n",
    "plt.title('Solution correction', fontsize=20)\n",
    "plt.grid(True, which=\"both\", ls=\"--\")\n",
    "plt.legend(frameon=False, fontsize=16)\n",
    "plt.show()"
   ]
  }
 ],
 "metadata": {
  "kernelspec": {
   "display_name": "Python 2",
   "language": "python",
   "name": "python2"
  },
  "language_info": {
   "codemirror_mode": {
    "name": "ipython",
    "version": 2
   },
   "file_extension": ".py",
   "mimetype": "text/x-python",
   "name": "python",
   "nbconvert_exporter": "python",
   "pygments_lexer": "ipython2",
   "version": "2.7.13"
  }
 },
 "nbformat": 4,
 "nbformat_minor": 2
}
