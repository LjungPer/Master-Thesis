{
 "cells": [
  {
   "cell_type": "markdown",
   "metadata": {},
   "source": [
    "# Plot the multiscale basis in 1D\n",
    "\n",
    "Evaluates the correction $\\phi_x := \\mathcal{Q}\\lambda_x \\in V^f$ for all $x\\in \\mathcal{N}_H$ and plots the correction, as well as the multiscale basis $\\lambda_x - \\phi_x$."
   ]
  },
  {
   "cell_type": "code",
   "execution_count": 2,
   "metadata": {},
   "outputs": [
    {
     "ename": "ImportError",
     "evalue": "No module named gridlod",
     "output_type": "error",
     "traceback": [
      "\u001b[0;31m---------------------------------------------------------------------------\u001b[0m",
      "\u001b[0;31mImportError\u001b[0m                               Traceback (most recent call last)",
      "\u001b[0;32m<ipython-input-2-685249540bc7>\u001b[0m in \u001b[0;36m<module>\u001b[0;34m()\u001b[0m\n\u001b[1;32m      2\u001b[0m \u001b[0;32mimport\u001b[0m \u001b[0mscipy\u001b[0m\u001b[0;34m.\u001b[0m\u001b[0msparse\u001b[0m \u001b[0;32mas\u001b[0m \u001b[0msparse\u001b[0m\u001b[0;34m\u001b[0m\u001b[0m\n\u001b[1;32m      3\u001b[0m \u001b[0;32mimport\u001b[0m \u001b[0mmatplotlib\u001b[0m\u001b[0;34m.\u001b[0m\u001b[0mpyplot\u001b[0m \u001b[0;32mas\u001b[0m \u001b[0mplt\u001b[0m\u001b[0;34m\u001b[0m\u001b[0m\n\u001b[0;32m----> 4\u001b[0;31m \u001b[0;32mfrom\u001b[0m \u001b[0mgridlod\u001b[0m \u001b[0;32mimport\u001b[0m \u001b[0mutil\u001b[0m\u001b[0;34m,\u001b[0m \u001b[0mfem\u001b[0m\u001b[0;34m,\u001b[0m \u001b[0mcoef\u001b[0m\u001b[0;34m,\u001b[0m \u001b[0minterp\u001b[0m\u001b[0;34m,\u001b[0m \u001b[0mlinalg\u001b[0m\u001b[0;34m\u001b[0m\u001b[0m\n\u001b[0m\u001b[1;32m      5\u001b[0m \u001b[0;32mfrom\u001b[0m \u001b[0mgridlod\u001b[0m\u001b[0;34m.\u001b[0m\u001b[0mworld\u001b[0m \u001b[0;32mimport\u001b[0m \u001b[0mWorld\u001b[0m\u001b[0;34m\u001b[0m\u001b[0m\n\u001b[1;32m      6\u001b[0m \u001b[0;32mimport\u001b[0m \u001b[0mlod_wave\u001b[0m\u001b[0;34m\u001b[0m\u001b[0m\n",
      "\u001b[0;31mImportError\u001b[0m: No module named gridlod"
     ]
    }
   ],
   "source": [
    "import numpy as np\n",
    "import scipy.sparse as sparse\n",
    "import matplotlib.pyplot as plt\n",
    "from gridlod import util, fem, coef, interp, linalg\n",
    "from gridlod.world import World\n",
    "import lod_wave\n",
    "\n",
    "'''\n",
    "Settings\n",
    "'''\n",
    "\n",
    "# fine mesh parameters\n",
    "fine = 256\n",
    "NFine = np.array([fine])\n",
    "NpFine = np.prod(NFine+1)\n",
    "boundaryConditions = np.array([[0, 0]])\n",
    "world = World(np.array([256]), NFine/np.array([256]), boundaryConditions)\n",
    "NWorldFine = world.NWorldCoarse * world.NCoarseElement\n",
    "\n",
    "# fine grid elements and nodes\n",
    "xt = util.tCoordinates(NFine).flatten()\n",
    "xp = util.pCoordinates(NFine).flatten()\n",
    "tau = 0.01\n",
    "\n",
    "# ms coefficients\n",
    "epsA = 2 ** (-5)\n",
    "epsB = 2 ** (-5)\n",
    "aFine = (2 - np.sin(2 * np.pi * xt / epsA)) ** (-1)\n",
    "bFine = (2 - np.cos(2 * np.pi * xt / epsB)) ** (-1)\n",
    "\n",
    "k_0 = np.inf\n",
    "N = 8\n",
    "\n",
    "# coarse mesh parameters\n",
    "NWorldCoarse = np.array([N])\n",
    "NCoarseElement = NFine / NWorldCoarse\n",
    "world = World(NWorldCoarse, NCoarseElement, boundaryConditions)\n",
    "\n",
    "# grid nodes\n",
    "xpCoarse = util.pCoordinates(NWorldCoarse).flatten()\n",
    "NpCoarse = np.prod(NWorldCoarse + 1)\n",
    "\n",
    "'''\n",
    "Compute multiscale basis\n",
    "'''\n",
    "\n",
    "# patch generator and coefficients\n",
    "IPatchGenerator = lambda i, N: interp.L2ProjectionPatchMatrix(i, N, NWorldCoarse,\n",
    "                                                              NCoarseElement, boundaryConditions)\n",
    "b_coef = coef.coefficientFine(NWorldCoarse, NCoarseElement, bFine)\n",
    "a_coef = coef.coefficientFine(NWorldCoarse, NCoarseElement, aFine / tau)\n",
    "\n",
    "# compute basis correctors\n",
    "lod = lod_wave.LodWave(b_coef, world, k_0, IPatchGenerator, a_coef)\n",
    "lod.compute_basis_correctors()\n",
    "\n",
    "# compute ms basis\n",
    "basis = fem.assembleProlongationMatrix(NWorldCoarse, NCoarseElement)\n",
    "basis_correctors = lod.assembleBasisCorrectors()\n",
    "ms_basis = basis - basis_correctors"
   ]
  },
  {
   "cell_type": "markdown",
   "metadata": {},
   "source": [
    "# Plot the basis correction"
   ]
  },
  {
   "cell_type": "code",
   "execution_count": 1,
   "metadata": {},
   "outputs": [
    {
     "ename": "NameError",
     "evalue": "name 'N' is not defined",
     "output_type": "error",
     "traceback": [
      "\u001b[0;31m---------------------------------------------------------------------------\u001b[0m",
      "\u001b[0;31mNameError\u001b[0m                                 Traceback (most recent call last)",
      "\u001b[0;32m<ipython-input-1-6023e40f446a>\u001b[0m in \u001b[0;36m<module>\u001b[0;34m()\u001b[0m\n\u001b[0;32m----> 1\u001b[0;31m \u001b[0mx\u001b[0m \u001b[0;34m=\u001b[0m \u001b[0mN\u001b[0m\u001b[0;34m/\u001b[0m\u001b[0;36m2\u001b[0m\u001b[0;34m\u001b[0m\u001b[0m\n\u001b[0m\u001b[1;32m      2\u001b[0m \u001b[0mplt\u001b[0m\u001b[0;34m.\u001b[0m\u001b[0mfigure\u001b[0m\u001b[0;34m(\u001b[0m\u001b[0;34m'Basis corr'\u001b[0m\u001b[0;34m)\u001b[0m\u001b[0;34m\u001b[0m\u001b[0m\n\u001b[1;32m      3\u001b[0m \u001b[0mplt\u001b[0m\u001b[0;34m.\u001b[0m\u001b[0mrc\u001b[0m\u001b[0;34m(\u001b[0m\u001b[0;34m'text'\u001b[0m\u001b[0;34m,\u001b[0m \u001b[0musetex\u001b[0m\u001b[0;34m=\u001b[0m\u001b[0mTrue\u001b[0m\u001b[0;34m)\u001b[0m\u001b[0;34m\u001b[0m\u001b[0m\n\u001b[1;32m      4\u001b[0m \u001b[0mplt\u001b[0m\u001b[0;34m.\u001b[0m\u001b[0mrc\u001b[0m\u001b[0;34m(\u001b[0m\u001b[0;34m'font'\u001b[0m\u001b[0;34m,\u001b[0m \u001b[0mfamily\u001b[0m\u001b[0;34m=\u001b[0m\u001b[0;34m'serif'\u001b[0m\u001b[0;34m)\u001b[0m\u001b[0;34m\u001b[0m\u001b[0m\n\u001b[1;32m      5\u001b[0m \u001b[0mplt\u001b[0m\u001b[0;34m.\u001b[0m\u001b[0msubplots_adjust\u001b[0m\u001b[0;34m(\u001b[0m\u001b[0mleft\u001b[0m\u001b[0;34m=\u001b[0m\u001b[0;36m0.14\u001b[0m\u001b[0;34m,\u001b[0m \u001b[0mbottom\u001b[0m\u001b[0;34m=\u001b[0m\u001b[0;36m0.07\u001b[0m\u001b[0;34m,\u001b[0m \u001b[0mright\u001b[0m\u001b[0;34m=\u001b[0m\u001b[0;36m0.99\u001b[0m\u001b[0;34m,\u001b[0m \u001b[0mtop\u001b[0m\u001b[0;34m=\u001b[0m\u001b[0;36m0.92\u001b[0m\u001b[0;34m,\u001b[0m \u001b[0mwspace\u001b[0m\u001b[0;34m=\u001b[0m\u001b[0;36m0.1\u001b[0m\u001b[0;34m,\u001b[0m \u001b[0mhspace\u001b[0m\u001b[0;34m=\u001b[0m\u001b[0;36m0.2\u001b[0m\u001b[0;34m)\u001b[0m\u001b[0;34m\u001b[0m\u001b[0m\n",
      "\u001b[0;31mNameError\u001b[0m: name 'N' is not defined"
     ]
    }
   ],
   "source": [
    "x = N/2\n",
    "plt.figure('Basis corr')\n",
    "plt.rc('text', usetex=True)\n",
    "plt.rc('font', family='serif')\n",
    "plt.subplots_adjust(left=0.14, bottom=0.07, right=0.99, top=0.92, wspace=0.1, hspace=0.2)\n",
    "plt.tick_params(labelsize=14)\n",
    "plt.plot(xp, basis_correctors[:,x].todense(), 'k', label='$\\phi_{%d}$' %(x), linewidth=1.5)\n",
    "plt.plot(xpCoarse, 0 * xpCoarse, 'or', label='$x\\in \\mathcal{N}_H$', markersize=4)\n",
    "plt.title('Basis correction', fontsize=20)\n",
    "plt.grid(True, which=\"both\", ls=\"--\")\n",
    "plt.legend(frameon=False, fontsize=16)\n",
    "plt.show()"
   ]
  },
  {
   "cell_type": "markdown",
   "metadata": {},
   "source": [
    "# Plot the multiscale basis"
   ]
  },
  {
   "cell_type": "code",
   "execution_count": 4,
   "metadata": {},
   "outputs": [
    {
     "data": {
      "image/png": "[encoded data removed]",
      "text/plain": [
       "<matplotlib.figure.Figure at 0x7f69e3b17fd0>"
      ]
     },
     "metadata": {},
     "output_type": "display_data"
    }
   ],
   "source": [
    "x = N/2\n",
    "plt.figure('Ms basis')\n",
    "plt.subplots_adjust(left=0.14, bottom=0.07, right=0.99, top=0.92, wspace=0.1, hspace=0.2)\n",
    "plt.tick_params(labelsize=14)\n",
    "plt.plot(xp, ms_basis[:,x].todense(), 'k', label='$\\lambda_{%d} - \\phi_{%d}$' %(x, x), linewidth=1.5)\n",
    "plt.plot(xpCoarse, 0 * xpCoarse, 'or', label='$x\\in \\mathcal{N}_H$', markersize=4)\n",
    "plt.title('Multiscale basis', fontsize=20)\n",
    "plt.grid(True, which=\"both\", ls=\"--\")\n",
    "plt.legend(frameon=False, fontsize=16)\n",
    "plt.show()"
   ]
  }
 ],
 "metadata": {
  "kernelspec": {
   "display_name": "Python 2",
   "language": "python",
   "name": "python2"
  },
  "language_info": {
   "codemirror_mode": {
    "name": "ipython",
    "version": 2
   },
   "file_extension": ".py",
   "mimetype": "text/x-python",
   "name": "python",
   "nbconvert_exporter": "python",
   "pygments_lexer": "ipython2",
   "version": "2.7.13"
  }
 },
 "nbformat": 4,
 "nbformat_minor": 2
}
